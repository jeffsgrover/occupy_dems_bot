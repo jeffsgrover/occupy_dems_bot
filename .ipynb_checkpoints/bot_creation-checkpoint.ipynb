{
 "cells": [
  {
   "cell_type": "code",
   "execution_count": 10,
   "id": "2bf16623-edb4-4d8b-a036-2469d379e011",
   "metadata": {},
   "outputs": [],
   "source": [
    "import markovify, snscrape, json, os\n",
    "import pandas as pd"
   ]
  },
  {
   "cell_type": "code",
   "execution_count": null,
   "id": "6389ece8-6fad-4bdc-acf1-3ddb5c915ce6",
   "metadata": {},
   "outputs": [],
   "source": [
    "os.system(\"snscrape --jsonl --max-results 100000 twitter-search 'from:OccupyDemocrats'> user-tweets.json\")"
   ]
  },
  {
   "cell_type": "code",
   "execution_count": null,
   "id": "d3b09bb6-6405-4b8c-bbe7-df80bc22b669",
   "metadata": {},
   "outputs": [],
   "source": [
    "tweets_df = pd.read_json('user-tweets.json', lines=True)"
   ]
  },
  {
   "cell_type": "code",
   "execution_count": null,
   "id": "dcb28f11-f9e7-411a-8248-01a03df9a625",
   "metadata": {},
   "outputs": [],
   "source": [
    "tweets_df.iloc[0:2,:]"
   ]
  },
  {
   "cell_type": "code",
   "execution_count": null,
   "id": "3d275f4c-7fc6-4912-af3e-7e5723014516",
   "metadata": {},
   "outputs": [],
   "source": [
    "tweets_df = tweets_df[(tweets_df.inReplyToUser.isnull())&(tweets_df.content.str.contains('RT IF'))].reset_index(drop=True)\n",
    "tweets_df.shape"
   ]
  },
  {
   "cell_type": "code",
   "execution_count": null,
   "id": "366e965c-239c-4184-ba63-50b42188da7c",
   "metadata": {},
   "outputs": [],
   "source": [
    "tweets = pd.DataFrame([(a, b) for a, b in tweets_df.content.str.split('RT IF')], columns=['content1','content2'])\n",
    "tweets"
   ]
  },
  {
   "cell_type": "code",
   "execution_count": null,
   "id": "9c049a04-2d2b-4d30-8399-1bec9d8406a2",
   "metadata": {},
   "outputs": [],
   "source": [
    "text_model1 = markovify.NewlineText(tweets.content1, 3)\n",
    "text_model2 = markovify.NewlineText(tweets.content2, 1)\n",
    "for i in range(10):\n",
    "    print((text_model1.make_short_sentence(200)+'RT IF'+text_model2.make_short_sentence(40)))"
   ]
  },
  {
   "cell_type": "code",
   "execution_count": 11,
   "id": "794d0489-3ab9-426b-ab3e-7b8fd044f73f",
   "metadata": {},
   "outputs": [],
   "source": [
    "tweets      = [text_model1.make_short_sentence(200)+'RT IF'+text_model2.make_short_sentence(40) for f in range(50000)]\n",
    "tweets_json = {\"headlines\": [{\"headline\":t} for t in headlines]}"
   ]
  },
  {
   "cell_type": "code",
   "execution_count": 12,
   "id": "6c82f16a-de0e-4d6f-ab5c-d172be6bfb59",
   "metadata": {},
   "outputs": [],
   "source": [
    "with open('occupy_tweets.json','w') as outfile:\n",
    "    json.dump(tweets_json, outfile)"
   ]
  },
  {
   "cell_type": "markdown",
   "id": "993ad9fb-9942-45b9-9ef5-5ca36de32ffa",
   "metadata": {},
   "source": [
    "BREAKING NEWS: President Biden announces that he has had a second child with his own face carved into it because he thinks climate change is a hoax. RT IF YOU THINK THE BIDEN TO VOTE FOR GOOD!"
   ]
  },
  {
   "cell_type": "code",
   "execution_count": null,
   "id": "5f37a7e1-c351-41c9-b30f-d9a684a8b274",
   "metadata": {},
   "outputs": [],
   "source": []
  }
 ],
 "metadata": {
  "kernelspec": {
   "display_name": "Python 3 (ipykernel)",
   "language": "python",
   "name": "python3"
  },
  "language_info": {
   "codemirror_mode": {
    "name": "ipython",
    "version": 3
   },
   "file_extension": ".py",
   "mimetype": "text/x-python",
   "name": "python",
   "nbconvert_exporter": "python",
   "pygments_lexer": "ipython3",
   "version": "3.9.9"
  }
 },
 "nbformat": 4,
 "nbformat_minor": 5
}
