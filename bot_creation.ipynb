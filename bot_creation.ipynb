{
 "cells": [
  {
   "cell_type": "code",
   "execution_count": 10,
   "id": "2bf16623-edb4-4d8b-a036-2469d379e011",
   "metadata": {},
   "outputs": [],
   "source": [
    "import markovify, snscrape, json, os\n",
    "import pandas as pd"
   ]
  },
  {
   "cell_type": "code",
   "execution_count": 74,
   "id": "6389ece8-6fad-4bdc-acf1-3ddb5c915ce6",
   "metadata": {},
   "outputs": [
    {
     "data": {
      "text/plain": [
       "0"
      ]
     },
     "execution_count": 74,
     "metadata": {},
     "output_type": "execute_result"
    }
   ],
   "source": [
    "os.system(\"snscrape --jsonl --max-results 100000 twitter-search 'from:OccupyDemocrats'> user-tweets.json\")"
   ]
  },
  {
   "cell_type": "code",
   "execution_count": 80,
   "id": "d3b09bb6-6405-4b8c-bbe7-df80bc22b669",
   "metadata": {},
   "outputs": [],
   "source": [
    "tweets_df = pd.read_json('user-tweets.json', lines=True)"
   ]
  },
  {
   "cell_type": "code",
   "execution_count": 81,
   "id": "0bb967f7-9a59-4a5c-b915-211f6a0ee4c6",
   "metadata": {},
   "outputs": [
    {
     "data": {
      "text/plain": [
       "(27340, 28)"
      ]
     },
     "execution_count": 81,
     "metadata": {},
     "output_type": "execute_result"
    }
   ],
   "source": [
    "tweets_df.shape"
   ]
  },
  {
   "cell_type": "code",
   "execution_count": 76,
   "id": "dcb28f11-f9e7-411a-8248-01a03df9a625",
   "metadata": {},
   "outputs": [
    {
     "data": {
      "text/html": [
       "<div>\n",
       "<style scoped>\n",
       "    .dataframe tbody tr th:only-of-type {\n",
       "        vertical-align: middle;\n",
       "    }\n",
       "\n",
       "    .dataframe tbody tr th {\n",
       "        vertical-align: top;\n",
       "    }\n",
       "\n",
       "    .dataframe thead th {\n",
       "        text-align: right;\n",
       "    }\n",
       "</style>\n",
       "<table border=\"1\" class=\"dataframe\">\n",
       "  <thead>\n",
       "    <tr style=\"text-align: right;\">\n",
       "      <th></th>\n",
       "      <th>_type</th>\n",
       "      <th>url</th>\n",
       "      <th>date</th>\n",
       "      <th>content</th>\n",
       "      <th>renderedContent</th>\n",
       "      <th>id</th>\n",
       "      <th>user</th>\n",
       "      <th>replyCount</th>\n",
       "      <th>retweetCount</th>\n",
       "      <th>likeCount</th>\n",
       "      <th>...</th>\n",
       "      <th>media</th>\n",
       "      <th>retweetedTweet</th>\n",
       "      <th>quotedTweet</th>\n",
       "      <th>inReplyToTweetId</th>\n",
       "      <th>inReplyToUser</th>\n",
       "      <th>mentionedUsers</th>\n",
       "      <th>coordinates</th>\n",
       "      <th>place</th>\n",
       "      <th>hashtags</th>\n",
       "      <th>cashtags</th>\n",
       "    </tr>\n",
       "  </thead>\n",
       "  <tbody>\n",
       "    <tr>\n",
       "      <th>0</th>\n",
       "      <td>snscrape.modules.twitter.Tweet</td>\n",
       "      <td>https://twitter.com/OccupyDemocrats/status/157...</td>\n",
       "      <td>2022-10-09 20:55:32+00:00</td>\n",
       "      <td>@pmbakid I sent this to them and they said tha...</td>\n",
       "      <td>@pmbakid I sent this to them and they said tha...</td>\n",
       "      <td>1579213999752683521</td>\n",
       "      <td>{'_type': 'snscrape.modules.twitter.User', 'us...</td>\n",
       "      <td>1</td>\n",
       "      <td>0</td>\n",
       "      <td>0</td>\n",
       "      <td>...</td>\n",
       "      <td>None</td>\n",
       "      <td>NaN</td>\n",
       "      <td>None</td>\n",
       "      <td>1.579212e+18</td>\n",
       "      <td>{'_type': 'snscrape.modules.twitter.User', 'us...</td>\n",
       "      <td>[{'_type': 'snscrape.modules.twitter.User', 'u...</td>\n",
       "      <td>None</td>\n",
       "      <td>None</td>\n",
       "      <td>None</td>\n",
       "      <td>NaN</td>\n",
       "    </tr>\n",
       "    <tr>\n",
       "      <th>1</th>\n",
       "      <td>snscrape.modules.twitter.Tweet</td>\n",
       "      <td>https://twitter.com/OccupyDemocrats/status/157...</td>\n",
       "      <td>2022-10-09 20:42:34+00:00</td>\n",
       "      <td>BREAKING: Future Twitter owner Elon Musk prais...</td>\n",
       "      <td>BREAKING: Future Twitter owner Elon Musk prais...</td>\n",
       "      <td>1579210737226252288</td>\n",
       "      <td>{'_type': 'snscrape.modules.twitter.User', 'us...</td>\n",
       "      <td>27</td>\n",
       "      <td>311</td>\n",
       "      <td>479</td>\n",
       "      <td>...</td>\n",
       "      <td>None</td>\n",
       "      <td>NaN</td>\n",
       "      <td>None</td>\n",
       "      <td>NaN</td>\n",
       "      <td>None</td>\n",
       "      <td>None</td>\n",
       "      <td>None</td>\n",
       "      <td>None</td>\n",
       "      <td>None</td>\n",
       "      <td>NaN</td>\n",
       "    </tr>\n",
       "  </tbody>\n",
       "</table>\n",
       "<p>2 rows × 28 columns</p>\n",
       "</div>"
      ],
      "text/plain": [
       "                            _type  \\\n",
       "0  snscrape.modules.twitter.Tweet   \n",
       "1  snscrape.modules.twitter.Tweet   \n",
       "\n",
       "                                                 url  \\\n",
       "0  https://twitter.com/OccupyDemocrats/status/157...   \n",
       "1  https://twitter.com/OccupyDemocrats/status/157...   \n",
       "\n",
       "                       date  \\\n",
       "0 2022-10-09 20:55:32+00:00   \n",
       "1 2022-10-09 20:42:34+00:00   \n",
       "\n",
       "                                             content  \\\n",
       "0  @pmbakid I sent this to them and they said tha...   \n",
       "1  BREAKING: Future Twitter owner Elon Musk prais...   \n",
       "\n",
       "                                     renderedContent                   id  \\\n",
       "0  @pmbakid I sent this to them and they said tha...  1579213999752683521   \n",
       "1  BREAKING: Future Twitter owner Elon Musk prais...  1579210737226252288   \n",
       "\n",
       "                                                user  replyCount  \\\n",
       "0  {'_type': 'snscrape.modules.twitter.User', 'us...           1   \n",
       "1  {'_type': 'snscrape.modules.twitter.User', 'us...          27   \n",
       "\n",
       "   retweetCount  likeCount  ...  media  retweetedTweet quotedTweet  \\\n",
       "0             0          0  ...   None             NaN        None   \n",
       "1           311        479  ...   None             NaN        None   \n",
       "\n",
       "  inReplyToTweetId                                      inReplyToUser  \\\n",
       "0     1.579212e+18  {'_type': 'snscrape.modules.twitter.User', 'us...   \n",
       "1              NaN                                               None   \n",
       "\n",
       "                                      mentionedUsers coordinates place  \\\n",
       "0  [{'_type': 'snscrape.modules.twitter.User', 'u...        None  None   \n",
       "1                                               None        None  None   \n",
       "\n",
       "  hashtags  cashtags  \n",
       "0     None       NaN  \n",
       "1     None       NaN  \n",
       "\n",
       "[2 rows x 28 columns]"
      ]
     },
     "execution_count": 76,
     "metadata": {},
     "output_type": "execute_result"
    }
   ],
   "source": [
    "tweets_df.iloc[0:2,:]"
   ]
  },
  {
   "cell_type": "code",
   "execution_count": 82,
   "id": "3d275f4c-7fc6-4912-af3e-7e5723014516",
   "metadata": {},
   "outputs": [
    {
     "data": {
      "text/plain": [
       "(3818, 28)"
      ]
     },
     "execution_count": 82,
     "metadata": {},
     "output_type": "execute_result"
    }
   ],
   "source": [
    "tweets_df = tweets_df[(tweets_df.inReplyToUser.isnull())&(tweets_df.content.str.contains('RT IF'))].reset_index(drop=True)\n",
    "tweets_df.shape"
   ]
  },
  {
   "cell_type": "code",
   "execution_count": 83,
   "id": "366e965c-239c-4184-ba63-50b42188da7c",
   "metadata": {},
   "outputs": [
    {
     "data": {
      "text/html": [
       "<div>\n",
       "<style scoped>\n",
       "    .dataframe tbody tr th:only-of-type {\n",
       "        vertical-align: middle;\n",
       "    }\n",
       "\n",
       "    .dataframe tbody tr th {\n",
       "        vertical-align: top;\n",
       "    }\n",
       "\n",
       "    .dataframe thead th {\n",
       "        text-align: right;\n",
       "    }\n",
       "</style>\n",
       "<table border=\"1\" class=\"dataframe\">\n",
       "  <thead>\n",
       "    <tr style=\"text-align: right;\">\n",
       "      <th></th>\n",
       "      <th>content1</th>\n",
       "      <th>content2</th>\n",
       "    </tr>\n",
       "  </thead>\n",
       "  <tbody>\n",
       "    <tr>\n",
       "      <th>0</th>\n",
       "      <td>BREAKING: Future Twitter owner Elon Musk prais...</td>\n",
       "      <td>MUSK AND KANYE SUCK!</td>\n",
       "    </tr>\n",
       "    <tr>\n",
       "      <th>1</th>\n",
       "      <td>BREAKING: Twitter competitor https://t.co/IO2p...</td>\n",
       "      <td>YOU SUPPORT TRIBEL!</td>\n",
       "    </tr>\n",
       "    <tr>\n",
       "      <th>2</th>\n",
       "      <td>BREAKING: Right-wing billionaire Elon Musk whi...</td>\n",
       "      <td>YOU DON’T BLAME HER!</td>\n",
       "    </tr>\n",
       "    <tr>\n",
       "      <th>3</th>\n",
       "      <td>BREAKING NEWS: Top Democrats introduce a bill ...</td>\n",
       "      <td>YOU SUPPORT THIS BILL!</td>\n",
       "    </tr>\n",
       "    <tr>\n",
       "      <th>4</th>\n",
       "      <td>BREAKING: MAGA panics as the woman whose abort...</td>\n",
       "      <td>YOU THINK THAT WALKER’S “PRO-LIFE” BELIEFS AR...</td>\n",
       "    </tr>\n",
       "    <tr>\n",
       "      <th>...</th>\n",
       "      <td>...</td>\n",
       "      <td>...</td>\n",
       "    </tr>\n",
       "    <tr>\n",
       "      <th>3813</th>\n",
       "      <td>BREAKING NEWS: Marjorie Taylor Greene tells he...</td>\n",
       "      <td>@mtgreenee MUST BE EXPELLED!</td>\n",
       "    </tr>\n",
       "    <tr>\n",
       "      <th>3814</th>\n",
       "      <td>BREAKING: Matt Gaetz's future sister-in-law ou...</td>\n",
       "      <td>YOU AGREE WITH HER!</td>\n",
       "    </tr>\n",
       "    <tr>\n",
       "      <th>3815</th>\n",
       "      <td>BREAKING: After having two venues cancel their...</td>\n",
       "      <td>YOU’RE PROUD OF CALIFORNIA FOR STANDING UP TO...</td>\n",
       "    </tr>\n",
       "    <tr>\n",
       "      <th>3816</th>\n",
       "      <td>BREAKING: @mattgaetz and @mtgreenee’s Saturday...</td>\n",
       "      <td>EVERY CITY IN THE REST OF THEIR TOUR SHOULD D...</td>\n",
       "    </tr>\n",
       "    <tr>\n",
       "      <th>3817</th>\n",
       "      <td>BREAKING: Liz Cheney slams “that f*cking guy” ...</td>\n",
       "      <td>YOU’RE PROUD OF LIZ  FOR CALLING HIM OUT ON T...</td>\n",
       "    </tr>\n",
       "  </tbody>\n",
       "</table>\n",
       "<p>3818 rows × 2 columns</p>\n",
       "</div>"
      ],
      "text/plain": [
       "                                               content1  \\\n",
       "0     BREAKING: Future Twitter owner Elon Musk prais...   \n",
       "1     BREAKING: Twitter competitor https://t.co/IO2p...   \n",
       "2     BREAKING: Right-wing billionaire Elon Musk whi...   \n",
       "3     BREAKING NEWS: Top Democrats introduce a bill ...   \n",
       "4     BREAKING: MAGA panics as the woman whose abort...   \n",
       "...                                                 ...   \n",
       "3813  BREAKING NEWS: Marjorie Taylor Greene tells he...   \n",
       "3814  BREAKING: Matt Gaetz's future sister-in-law ou...   \n",
       "3815  BREAKING: After having two venues cancel their...   \n",
       "3816  BREAKING: @mattgaetz and @mtgreenee’s Saturday...   \n",
       "3817  BREAKING: Liz Cheney slams “that f*cking guy” ...   \n",
       "\n",
       "                                               content2  \n",
       "0                                  MUSK AND KANYE SUCK!  \n",
       "1                                   YOU SUPPORT TRIBEL!  \n",
       "2                                  YOU DON’T BLAME HER!  \n",
       "3                                YOU SUPPORT THIS BILL!  \n",
       "4      YOU THINK THAT WALKER’S “PRO-LIFE” BELIEFS AR...  \n",
       "...                                                 ...  \n",
       "3813                       @mtgreenee MUST BE EXPELLED!  \n",
       "3814                                YOU AGREE WITH HER!  \n",
       "3815   YOU’RE PROUD OF CALIFORNIA FOR STANDING UP TO...  \n",
       "3816   EVERY CITY IN THE REST OF THEIR TOUR SHOULD D...  \n",
       "3817   YOU’RE PROUD OF LIZ  FOR CALLING HIM OUT ON T...  \n",
       "\n",
       "[3818 rows x 2 columns]"
      ]
     },
     "execution_count": 83,
     "metadata": {},
     "output_type": "execute_result"
    }
   ],
   "source": [
    "tweets = pd.DataFrame([(a, b) for a, b in tweets_df.content.str.split('RT IF')], columns=['content1','content2'])\n",
    "tweets"
   ]
  },
  {
   "cell_type": "code",
   "execution_count": 84,
   "id": "9c049a04-2d2b-4d30-8399-1bec9d8406a2",
   "metadata": {},
   "outputs": [
    {
     "name": "stdout",
     "output_type": "stream",
     "text": [
      "BREAKING: New campaign disclosures reveal that Donald Trump could face five years in federal prison. RT IF YOU SUPPORT THIS IS A BIGOT!\n",
      "BREAKING: Two advisors to Donald Trump by shooting down his desperate attempt to help Trump steal the election, in criminal content for defying its subpoena. RT IF YOU THINK THAT TIM RYAN CRUSHES RUBIO!\n",
      "BREAKING NEWS: Dr. Fauci announces his support of vaccine mandates for employees &amp; school mask mandates dead in its tracks — a major victory for the administration. RT IF YOU’RE WITH A WAR CRIMINAL!\n",
      "BREAKING: The Department of Justice impanels a grand jury indicts him for refusing to get vaccinated — a no-option mandate that will affect about 148,000 workers. RT IF YOU FULLY SUPPORT THIS!\n",
      "BREAKING: The Supreme Court slaps down a request from the Biden White House is set to announce that 95% of the federal Logan Act. RT IF YOU THINK RUSSIA SHOULD BE REJECTED!\n",
      "BREAKING: MAGA candidate Dr. Oz under the bus, cancels over $5 million a year. RT IF YOU THINK GAETZ ARE HEARTLESS IDIOT!\n",
      "BREAKING: New book reveals that Donald Trump could face five years in federal prison. RT IF YOU LOVE BIDEN'S FIREARM NEGLIGENCE!\n",
      "BREAKING: In a dire development for Mark Meadows, the Justice Department arrest Trump White House Records to the Jan. 6th committee. RT IF YOU'RE GOING TO CHOOSE!\n",
      "BREAKING: Mitt Romney is participating in a fundraiser to help Rep. Liz Cheney drops a bombshell, reveals that Trump tried desperately to hide. RT IF YOU SUPPORT PAID PARENTAL LEAVE!\n",
      "BREAKING NEWS: At least 5 injured at a shooting at an Arizona shopping mall. RT IF YOU SUPPORT THE FREE PRESS!\n"
     ]
    }
   ],
   "source": [
    "text_model1 = markovify.NewlineText(tweets.content1, 3)\n",
    "text_model2 = markovify.NewlineText(tweets.content2, 1)\n",
    "for i in range(10):\n",
    "    print((text_model1.make_short_sentence(200)+'RT IF'+text_model2.make_short_sentence(40)))"
   ]
  },
  {
   "cell_type": "code",
   "execution_count": 101,
   "id": "794d0489-3ab9-426b-ab3e-7b8fd044f73f",
   "metadata": {},
   "outputs": [],
   "source": [
    "n           = 50000\n",
    "tweets_1    = [text_model1.make_short_sentence(200) for i in range(n)]\n",
    "tweets_1    = [t for t in tweets_1 if t is not None]\n",
    "tweets_2    = [text_model2.make_short_sentence(40)  for i in range(n)]\n",
    "tweets_2    = [t for t in tweets_2 if t is not None]\n",
    "\n",
    "n_actual    = min((len(tweets_1), len(tweets_2)))\n",
    "tweets      = [tweets_1[i]+'RT IF'+tweets_2[i] for i in range(n_actual)]\n",
    "tweets.append('BREAKING NEWS: President Biden announces that he has had a second child with his own face carved into it because he thinks climate change is a hoax. RT IF YOU THINK THE BIDEN TO VOTE FOR GOOD!')\n",
    "tweets_json = {\"tweets\": [{\"tweet\":t} for t in tweets]}"
   ]
  },
  {
   "cell_type": "code",
   "execution_count": 102,
   "id": "6c82f16a-de0e-4d6f-ab5c-d172be6bfb59",
   "metadata": {},
   "outputs": [],
   "source": [
    "with open('occupy_tweets.json','w') as outfile:\n",
    "    json.dump(tweets_json, outfile)"
   ]
  },
  {
   "cell_type": "markdown",
   "id": "993ad9fb-9942-45b9-9ef5-5ca36de32ffa",
   "metadata": {},
   "source": [
    "BREAKING NEWS: President Biden announces that he has had a second child with his own face carved into it because he thinks climate change is a hoax. RT IF YOU THINK THE BIDEN TO VOTE FOR GOOD!"
   ]
  },
  {
   "cell_type": "code",
   "execution_count": null,
   "id": "5f37a7e1-c351-41c9-b30f-d9a684a8b274",
   "metadata": {},
   "outputs": [],
   "source": []
  }
 ],
 "metadata": {
  "kernelspec": {
   "display_name": "Python 3 (ipykernel)",
   "language": "python",
   "name": "python3"
  },
  "language_info": {
   "codemirror_mode": {
    "name": "ipython",
    "version": 3
   },
   "file_extension": ".py",
   "mimetype": "text/x-python",
   "name": "python",
   "nbconvert_exporter": "python",
   "pygments_lexer": "ipython3",
   "version": "3.9.9"
  }
 },
 "nbformat": 4,
 "nbformat_minor": 5
}
